{
 "cells": [
  {
   "cell_type": "code",
   "execution_count": 8,
   "metadata": {},
   "outputs": [
    {
     "name": "stdout",
     "output_type": "stream",
     "text": [
      "[1, 3, 45, 22, 12, 45]\n",
      "0     1\n",
      "1     3\n",
      "2    45\n",
      "3    22\n",
      "4    12\n",
      "5    45\n",
      "dtype: int64\n",
      "    0\n",
      "0   1\n",
      "1   3\n",
      "2  45\n",
      "3  22\n",
      "4  12\n",
      "5  45\n"
     ]
    }
   ],
   "source": [
    "from pandas import *\n",
    "from numpy import *\n",
    "list1=[1,3,45,22,12,45]\n",
    "print(list1)\n",
    "print(Series(list1))\n",
    "print(DataFrame(list1))"
   ]
  },
  {
   "cell_type": "code",
   "execution_count": 9,
   "metadata": {},
   "outputs": [
    {
     "name": "stdout",
     "output_type": "stream",
     "text": [
      "Series([], dtype: float64)\n"
     ]
    }
   ],
   "source": [
    "print(Series())"
   ]
  },
  {
   "cell_type": "code",
   "execution_count": 12,
   "metadata": {},
   "outputs": [
    {
     "name": "stdout",
     "output_type": "stream",
     "text": [
      "0    j\n",
      "1    a\n",
      "2    y\n",
      "3    a\n",
      "4    n\n",
      "5    t\n",
      "dtype: object\n"
     ]
    }
   ],
   "source": [
    "from pandas import *\n",
    "from numpy import *\n",
    "arr=array(['j','a','y','a','n','t'])\n",
    "print(Series(arr))"
   ]
  },
  {
   "cell_type": "code",
   "execution_count": 13,
   "metadata": {},
   "outputs": [
    {
     "name": "stdout",
     "output_type": "stream",
     "text": [
      "0    4\n",
      "1    4\n",
      "2    4\n",
      "3    4\n",
      "4    4\n",
      "dtype: int64\n"
     ]
    }
   ],
   "source": [
    "x=Series(4,index=[0,1,2,3,4])\n",
    "print(x)"
   ]
  },
  {
   "cell_type": "code",
   "execution_count": 29,
   "metadata": {},
   "outputs": [
    {
     "name": "stdout",
     "output_type": "stream",
     "text": [
      "a    1\n",
      "b    3\n",
      "c    4\n",
      "dtype: int32\n",
      "Index(['a', 'b', 'c'], dtype='object')\n",
      "[1 3 4]\n",
      "int32\n",
      "4\n",
      "(3,)\n",
      "3\n",
      "8\n",
      "1\n",
      "4\n",
      "1\n",
      "3\n",
      "12\n",
      "False\n",
      "False\n",
      "3\n",
      "3\n"
     ]
    },
    {
     "name": "stderr",
     "output_type": "stream",
     "text": [
      "C:\\Users\\USER\\Anaconda3\\lib\\site-packages\\ipykernel_launcher.py:6: FutureWarning: Series.itemsize is deprecated and will be removed in a future version\n",
      "  \n"
     ]
    }
   ],
   "source": [
    "x=Series(data=[1,3,4],index=['a','b','c'],dtype=int)\n",
    "print(x)\n",
    "print(x.index)                            #series functions...\n",
    "print(x.values)\n",
    "print(x.dtype)\n",
    "print(x.itemsize)\n",
    "print(x.shape)\n",
    "print(x.size)\n",
    "print(x.sum())\n",
    "print(x.min())\n",
    "print(x.max())\n",
    "print(x.ndim)\n",
    "print(x.size)\n",
    "print(x.nbytes)\n",
    "print(x.empty)\n",
    "print(x.hasnans)\n",
    "print(x.count())\n",
    "print(len(x))"
   ]
  },
  {
   "cell_type": "code",
   "execution_count": 35,
   "metadata": {},
   "outputs": [
    {
     "data": {
      "text/plain": [
       "0    I like \n",
       "1    I like \n",
       "2    I like \n",
       "dtype: object"
      ]
     },
     "execution_count": 35,
     "metadata": {},
     "output_type": "execute_result"
    }
   ],
   "source": [
    "a=Series(['java','c','c++'])\n",
    "a.map({'java':'core'})\n",
    "a.map(\"I like \".format)"
   ]
  },
  {
   "cell_type": "code",
   "execution_count": 42,
   "metadata": {},
   "outputs": [
    {
     "data": {
      "text/html": [
       "<div>\n",
       "<style scoped>\n",
       "    .dataframe tbody tr th:only-of-type {\n",
       "        vertical-align: middle;\n",
       "    }\n",
       "\n",
       "    .dataframe tbody tr th {\n",
       "        vertical-align: top;\n",
       "    }\n",
       "\n",
       "    .dataframe thead th {\n",
       "        text-align: right;\n",
       "    }\n",
       "</style>\n",
       "<table border=\"1\" class=\"dataframe\">\n",
       "  <thead>\n",
       "    <tr style=\"text-align: right;\">\n",
       "      <th></th>\n",
       "      <th>values</th>\n",
       "    </tr>\n",
       "  </thead>\n",
       "  <tbody>\n",
       "    <tr>\n",
       "      <th>0</th>\n",
       "      <td>a</td>\n",
       "    </tr>\n",
       "    <tr>\n",
       "      <th>1</th>\n",
       "      <td>b</td>\n",
       "    </tr>\n",
       "    <tr>\n",
       "      <th>2</th>\n",
       "      <td>c</td>\n",
       "    </tr>\n",
       "  </tbody>\n",
       "</table>\n",
       "</div>"
      ],
      "text/plain": [
       "  values\n",
       "0      a\n",
       "1      b\n",
       "2      c"
      ]
     },
     "execution_count": 42,
     "metadata": {},
     "output_type": "execute_result"
    }
   ],
   "source": [
    "s=Series([\"a\",\"b\",\"c\"],name=\"values\")\n",
    "s.to_frame()\n"
   ]
  },
  {
   "cell_type": "code",
   "execution_count": 47,
   "metadata": {},
   "outputs": [
    {
     "name": "stdout",
     "output_type": "stream",
     "text": [
      "      EMP   ID\n",
      "0  jayant  101\n",
      "1    aman  102\n",
      "2  suresh  103\n"
     ]
    }
   ],
   "source": [
    "emp=Series(['jayant','aman','suresh'])\n",
    "id=Series([101,102,103])\n",
    "frame={'EMP':emp,'ID':id}\n",
    "result=DataFrame(frame)\n",
    "print(result)"
   ]
  },
  {
   "cell_type": "code",
   "execution_count": 48,
   "metadata": {},
   "outputs": [
    {
     "name": "stdout",
     "output_type": "stream",
     "text": [
      "130\n",
      "130.0\n"
     ]
    }
   ],
   "source": [
    "a=130\n",
    "print(a)\n",
    "b=float(a)\n",
    "print(b)"
   ]
  },
  {
   "cell_type": "code",
   "execution_count": 49,
   "metadata": {},
   "outputs": [
    {
     "name": "stdout",
     "output_type": "stream",
     "text": [
      "sahez\n",
      "payal\n",
      "jks\n",
      "aman\n"
     ]
    }
   ],
   "source": [
    "sets={\"jks\",\"aman\",\"sahez\"}\n",
    "sets.add(\"payal\")\n",
    "for i in sets:\n",
    "    print(i)"
   ]
  },
  {
   "cell_type": "code",
   "execution_count": 50,
   "metadata": {},
   "outputs": [
    {
     "name": "stdout",
     "output_type": "stream",
     "text": [
      "aman\n",
      "kanta\n",
      "sahez\n",
      "akash\n",
      "yaman\n",
      "jks\n",
      "payal\n"
     ]
    }
   ],
   "source": [
    "sets.update([\"akash\",\"yaman\",\"kanta\"])\n",
    "for i in sets:\n",
    "    print(i)"
   ]
  },
  {
   "cell_type": "code",
   "execution_count": 51,
   "metadata": {},
   "outputs": [
    {
     "name": "stdout",
     "output_type": "stream",
     "text": [
      "aman\n"
     ]
    }
   ],
   "source": [
    "x=sets.pop()\n",
    "print(x)"
   ]
  },
  {
   "cell_type": "code",
   "execution_count": 53,
   "metadata": {},
   "outputs": [
    {
     "name": "stdout",
     "output_type": "stream",
     "text": [
      "{'kanta', 'sahez', 'akash', 'hello', 'world', 'yaman', 'jks', 'payal'}\n"
     ]
    }
   ],
   "source": [
    "set2={\"hello\",\"world\"}\n",
    "set3=set2.union(sets)\n",
    "print(set3)"
   ]
  },
  {
   "cell_type": "code",
   "execution_count": 84,
   "metadata": {},
   "outputs": [
    {
     "name": "stdout",
     "output_type": "stream",
     "text": [
      "jayant\n",
      "jayant\n",
      "dict_values(['aman', 'himanshu'])\n",
      "dict_values(['aman', 'himanshu'])\n",
      "aman\n",
      "himanshu\n",
      "1 aman\n",
      "2 himanshu\n",
      "true\n",
      "2\n",
      "{'1': 'aman', '2': 'himanshu'}\n",
      "{'1': 'aman', '2': 'himanshu', '5': 'hello', '6': 'hello'}\n"
     ]
    }
   ],
   "source": [
    "name={\"1\":\"jayant\",\"2\":\"himanshu\"}\n",
    "print(name.get(\"1\"))\n",
    "print(name[\"1\"])\n",
    "name[\"1\"]=\"aman\"\n",
    "for i in name:\n",
    "    print(name.values())\n",
    "for i in name:\n",
    "    print(name[i])\n",
    "    \n",
    "for x,y in name.items():\n",
    "    print(x,y)\n",
    "    \n",
    "if \"1\" in name:\n",
    "    print(\"true\")\n",
    "    \n",
    "    print(len(name))\n",
    "    \n",
    "print(name)\n",
    "\n",
    "name.update({\"5\":\"hello\",\"6\":\"hello\"})\n",
    "print(name)"
   ]
  },
  {
   "cell_type": "code",
   "execution_count": 82,
   "metadata": {},
   "outputs": [
    {
     "name": "stdout",
     "output_type": "stream",
     "text": [
      "1 aman\n",
      "{'1': 'aman', '2': 'himanshu', '3': 'sahez', '4': 'jayant'}\n",
      "2 himanshu\n",
      "{'1': 'aman', '2': 'himanshu', '3': 'sahez', '4': 'jayant'}\n",
      "3 sahez\n",
      "{'1': 'aman', '2': 'himanshu', '3': 'sahez', '4': 'jayant'}\n",
      "4 jayant\n",
      "{'1': 'aman', '2': 'himanshu', '3': 'sahez', '4': 'jayant'}\n",
      "{'1': 'aman', '2': 'himanshu', '3': 'sahez', '4': 'jayant'}\n"
     ]
    }
   ],
   "source": [
    "name[\"3\"]=\"sahez\"\n",
    "name[\"4\"]=\"jayant\"\n",
    "for x,y in name.items():\n",
    "    print(x,y)\n",
    "    \n",
    "    print(name)\n",
    "\n",
    "new_name=name.copy()\n",
    "print(new_name)\n"
   ]
  },
  {
   "cell_type": "code",
   "execution_count": 85,
   "metadata": {},
   "outputs": [
    {
     "name": "stdout",
     "output_type": "stream",
     "text": [
      "{'1': 'aman', '2': 'himanshu', '5': 'hello'}\n"
     ]
    }
   ],
   "source": [
    "name.popitem()\n",
    "print(name)"
   ]
  },
  {
   "cell_type": "code",
   "execution_count": 87,
   "metadata": {},
   "outputs": [
    {
     "name": "stdout",
     "output_type": "stream",
     "text": [
      "15\n"
     ]
    }
   ],
   "source": [
    "#lambda expression\n",
    "x=lambda x: x+10\n",
    "\n",
    "print(x(5))"
   ]
  },
  {
   "cell_type": "code",
   "execution_count": 94,
   "metadata": {},
   "outputs": [
    {
     "ename": "TypeError",
     "evalue": "display() takes 0 positional arguments but 1 was given",
     "output_type": "error",
     "traceback": [
      "\u001b[1;31m---------------------------------------------------------------------------\u001b[0m",
      "\u001b[1;31mTypeError\u001b[0m                                 Traceback (most recent call last)",
      "\u001b[1;32m<ipython-input-94-629b626cae89>\u001b[0m in \u001b[0;36m<module>\u001b[1;34m\u001b[0m\n\u001b[0;32m      7\u001b[0m \u001b[1;33m\u001b[0m\u001b[0m\n\u001b[0;32m      8\u001b[0m \u001b[0mP\u001b[0m\u001b[1;33m=\u001b[0m\u001b[0mStudent\u001b[0m\u001b[1;33m(\u001b[0m\u001b[1;33m)\u001b[0m\u001b[1;33m\u001b[0m\u001b[1;33m\u001b[0m\u001b[0m\n\u001b[1;32m----> 9\u001b[1;33m \u001b[0mP\u001b[0m\u001b[1;33m.\u001b[0m\u001b[0mdisplay\u001b[0m\u001b[1;33m(\u001b[0m\u001b[1;33m)\u001b[0m\u001b[1;33m\u001b[0m\u001b[1;33m\u001b[0m\u001b[0m\n\u001b[0m",
      "\u001b[1;31mTypeError\u001b[0m: display() takes 0 positional arguments but 1 was given"
     ]
    }
   ],
   "source": [
    "class Person:\n",
    "    def display():\n",
    "        print(\"Parent class\")\n",
    "        \n",
    "class Student(Person):\n",
    "    pass\n",
    "    \n",
    "P=Student()\n",
    "P.display()\n"
   ]
  },
  {
   "cell_type": "code",
   "execution_count": 98,
   "metadata": {},
   "outputs": [
    {
     "name": "stdout",
     "output_type": "stream",
     "text": [
      "apple\n",
      "banana\n",
      "orange\n"
     ]
    }
   ],
   "source": [
    "mytupple=(\"apple\",\"banana\",\"orange\")\n",
    "\n",
    "myitr=iter(mytupple)\n",
    "\n",
    "for i in myitr:\n",
    "    print(i)"
   ]
  },
  {
   "cell_type": "code",
   "execution_count": 99,
   "metadata": {},
   "outputs": [
    {
     "name": "stdout",
     "output_type": "stream",
     "text": [
      "2020-02-06 03:47:41.378379\n"
     ]
    }
   ],
   "source": [
    "import datetime\n",
    "print(datetime.datetime.now())"
   ]
  },
  {
   "cell_type": "code",
   "execution_count": 101,
   "metadata": {},
   "outputs": [
    {
     "name": "stdout",
     "output_type": "stream",
     "text": [
      "{\"name\":\"jayant\",\"age\":30,\"city\":\"New Delhi\"}\n",
      "{'name': 'jayant', 'age': 30, 'city': 'New Delhi'}\n"
     ]
    }
   ],
   "source": [
    "import json\n",
    "\n",
    "x='{\"name\":\"jayant\",\"age\":30,\"city\":\"New Delhi\"}'\n",
    "\n",
    "print(x)\n",
    "y=json.loads(x)\n",
    "\n",
    "print(y)"
   ]
  },
  {
   "cell_type": "code",
   "execution_count": 105,
   "metadata": {},
   "outputs": [
    {
     "name": "stdout",
     "output_type": "stream",
     "text": [
      "{'name': 'jayant', 'age': 20, 'city': 'New Delhi'}\n",
      "{\"name\": \"jayant\", \"age\": 20, \"city\": \"New Delhi\"}\n"
     ]
    }
   ],
   "source": [
    "data={\"name\":\"jayant\",\"age\":20,\"city\":\"New Delhi\"}\n",
    "print(data)\n",
    "json=json.dumps(data)\n",
    "print(json)"
   ]
  },
  {
   "cell_type": "code",
   "execution_count": 107,
   "metadata": {},
   "outputs": [
    {
     "name": "stdout",
     "output_type": "stream",
     "text": [
      "yes ! we have match\n"
     ]
    }
   ],
   "source": [
    "import re\n",
    "\n",
    "txt=\"The rain in spain\"\n",
    "x=re.search(\"^The.*Spain$\",txt)\n",
    "\n",
    "if txt:\n",
    "    print(\"yes ! we have match\")\n",
    "else:\n",
    "    print(\"sorry! we didn/'t find\" )"
   ]
  },
  {
   "cell_type": "code",
   "execution_count": null,
   "metadata": {},
   "outputs": [],
   "source": []
  },
  {
   "cell_type": "code",
   "execution_count": null,
   "metadata": {},
   "outputs": [],
   "source": []
  }
 ],
 "metadata": {
  "kernelspec": {
   "display_name": "Python 3",
   "language": "python",
   "name": "python3"
  },
  "language_info": {
   "codemirror_mode": {
    "name": "ipython",
    "version": 3
   },
   "file_extension": ".py",
   "mimetype": "text/x-python",
   "name": "python",
   "nbconvert_exporter": "python",
   "pygments_lexer": "ipython3",
   "version": "3.7.1"
  }
 },
 "nbformat": 4,
 "nbformat_minor": 2
}
